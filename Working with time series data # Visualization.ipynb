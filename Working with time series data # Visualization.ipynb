{
 "cells": [
  {
   "cell_type": "code",
   "execution_count": null,
   "metadata": {},
   "outputs": [],
   "source": [
    "import pandas as pd\n",
    "import numpy as np\n",
    "import os\n",
    "import statistics as stats\n",
    "import datetime as dt\n",
    "import matplotlib\n",
    "import matplotlib.pyplot as plt\n",
    "from matplotlib.lines import Line2D\n",
    "\n",
    "data = pd.read_csv('/home/jovyan/work/datasets/Sensor_readings.csv')\n",
    "data.index = pd.to_datetime(data['timestamp'])\n",
    "def plot_time_range (t_min_str, t_max_str, marker=',', resample='5min'):\n",
    "    # plt (=matplotlib.pyplot) is just a state-based INTERFACE to matplotlib \n",
    "    # se https://matplotlib.org/api/pyplot_summary.html\n",
    "    \n",
    "    # basic preparations\n",
    "    fig, ax = plt.subplots(figsize=(18,5))\n",
    "    ax.set_yticks([]) # remove from empty axes, we will not plot there \n",
    "    ax.grid(b=True, color='b', alpha=.1, axis='x')\n",
    "    \n",
    "    # for color separation of 2*3 series\n",
    "    color_groups = (list('rgb'), list('myc')) \n",
    "\n",
    "    \n",
    "#    measurments = ['temp_avg', 'light_avg', 'humidity_avg']\n",
    "    t_min = pd.Timestamp(t_min_str)\n",
    "    t_max = pd.Timestamp(t_max_str)\n",
    "#    plt.figure(figsize=(18,5))\n",
    "#    matplotlib.pyplot.figure(figsize=(18,7))\n",
    "    plt.xlim(t_min, t_max)\n",
    "\n",
    "    location_filter = data.location == 'Fitzroy Gardens'\n",
    "\n",
    "#    data['timestamp'] = pd.to_datetime(data['timestamp'])\n",
    "#    data.set_index('timestamp')\n",
    "    time_filter     = data.index < t_max\n",
    "    data_filtered   = data[location_filter & time_filter]\n",
    "    #boards         = data_filtered.boardid.unique()\n",
    "\n",
    "    plt.plot(data_filtered.index, data_filtered.temp_avg, ',', c='g', alpha=.9)\n",
    "    plt.plot(data_filtered.index, data_filtered.light_avg, ',', c='r', alpha=.9)\n",
    "    plt.plot(data_filtered.index, data_filtered.humidity_avg, ',', c='b', alpha=.9)\t\n",
    "\n",
    "    # display    \n",
    "    plt.show()\n",
    "\n",
    "#    location_filter = data.location == 'Docklands Library'\n",
    "#    plt.plot(data_filtered.index, data_filtered.temp_avg, ',', c='r', alpha=.9)\n",
    "#    plt.plot(data_filtered.index, data_filtered.light_avg, ',', c='g', alpha=.9)\n",
    "#    plt.plot(data_filtered.index, data_filtered.humidity_avg, ',', c='b', alpha=.9)\t\n",
    "\n",
    "    # display    \n",
    "#    plt.show()\n",
    "\n",
    "plot_time_range (data.index.min(), '2015-01-01', marker=',', resample='5Min')"
   ]
  }
 ],
 "metadata": {
  "kernelspec": {
   "display_name": "Python 3",
   "language": "python",
   "name": "python3"
  },
  "language_info": {
   "codemirror_mode": {
    "name": "ipython",
    "version": 3
   },
   "file_extension": ".py",
   "mimetype": "text/x-python",
   "name": "python",
   "nbconvert_exporter": "python",
   "pygments_lexer": "ipython3",
   "version": "3.7.6"
  }
 },
 "nbformat": 4,
 "nbformat_minor": 4
}
