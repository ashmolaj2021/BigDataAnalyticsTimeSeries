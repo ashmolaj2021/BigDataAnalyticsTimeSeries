{
 "cells": [
  {
   "cell_type": "code",
   "execution_count": null,
   "metadata": {},
   "outputs": [],
   "source": [
    "import pandas as pd\n",
    "import numpy as np\n",
    "import math\n",
    "import os\n",
    "import statistics\n",
    "data = pd.read_csv('/home/jovyan/work/datasets/Sensor_readings.csv')\n",
    "data.drop(columns=['mac', 'boardtype', 'Position', 'model', 'rowid'], inplace=True)\n",
    "data.head(10)\n",
    "data.drop(['temp_max', 'temp_min', 'light_max','light_min', 'humidity_min', 'humidity_max'], axis=1, inplace=True)\n",
    "\n",
    "def variance(Series, ddof=0):\n",
    "    n = len(Series)\n",
    "    mean = sum(Series) / n\n",
    "    return sum((x - mean) ** 2 for x in Series) / (n - ddof)\n",
    "\n",
    "def std_dev(Series, ddof=0):\n",
    "    return math.sqrt(variance(Series, ddof))\n",
    "\n",
    "def print_stats(std_dev,title='St. dev. for locations:',data=data):\n",
    "    print('St. dev. for locations:')\n",
    "    for locationName, locationData in data.groupby('location'):\n",
    "        print(locationName)\n",
    "        str1 = '\\ttemp\\t\\t'\n",
    "        str2 = std_dev(locationData.temp_avg)     \n",
    "        print(str1, str2)\n",
    "        str3 = '\\tlight\\t\\t'\n",
    "        str4 = std_dev(locationData.light_avg)    \n",
    "        print(str3, str4)\n",
    "        str5 = '\\thumidity\\t'\n",
    "        str6 = std_dev(locationData.humidity_avg)    \n",
    "        print(str5, str6)\n",
    "\n",
    "        for boardid, boardData in locationData.groupby('boardid'):\n",
    "            elevation = boardData['elevation'].dropna().mean()\n",
    "            print('\\t',(\"board - %s\"%(boardid)), ' - ', (\"elevation - %s\"%(elevation)))\n",
    "            str7 = '\\t\\ttemp\\t\\t'\n",
    "            str8 = std_dev(boardData.temp_avg)\n",
    "            print(str7, str8)\n",
    "            str9 = '\\t\\tlight\\t\\t'\n",
    "            str10 = std_dev(boardData.light_avg)\n",
    "            print(str9, str10)\n",
    "            str11 = '\\t\\thumidity\\t'\n",
    "            str12 = std_dev(boardData.humidity_avg)\n",
    "            print(str11, str12)\n",
    "\n",
    "print_stats(std_dev,title='St. dev. for locations:',data=data)"
   ]
  }
 ],
 "metadata": {
  "kernelspec": {
   "display_name": "Python 3",
   "language": "python",
   "name": "python3"
  },
  "language_info": {
   "codemirror_mode": {
    "name": "ipython",
    "version": 3
   },
   "file_extension": ".py",
   "mimetype": "text/x-python",
   "name": "python",
   "nbconvert_exporter": "python",
   "pygments_lexer": "ipython3",
   "version": "3.7.6"
  }
 },
 "nbformat": 4,
 "nbformat_minor": 4
}
